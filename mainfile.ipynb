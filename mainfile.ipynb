{
 "cells": [
  {
   "cell_type": "code",
   "execution_count": 19,
   "id": "41572036",
   "metadata": {},
   "outputs": [
    {
     "name": "stderr",
     "output_type": "stream",
     "text": [
      "huggingface/tokenizers: The current process just got forked, after parallelism has already been used. Disabling parallelism to avoid deadlocks...\n",
      "To disable this warning, you can either:\n",
      "\t- Avoid using `tokenizers` before the fork if possible\n",
      "\t- Explicitly set the environment variable TOKENIZERS_PARALLELISM=(true | false)\n"
     ]
    },
    {
     "name": "stdout",
     "output_type": "stream",
     "text": [
      "Requirement already satisfied: langchain-groq in /Users/vishalpatel/anaconda3/lib/python3.11/site-packages (0.1.9)\n",
      "Requirement already satisfied: groq<1,>=0.4.1 in /Users/vishalpatel/anaconda3/lib/python3.11/site-packages (from langchain-groq) (0.11.0)\n",
      "Requirement already satisfied: langchain-core<0.3.0,>=0.2.26 in /Users/vishalpatel/anaconda3/lib/python3.11/site-packages (from langchain-groq) (0.2.38)\n",
      "Requirement already satisfied: anyio<5,>=3.5.0 in /Users/vishalpatel/anaconda3/lib/python3.11/site-packages (from groq<1,>=0.4.1->langchain-groq) (3.5.0)\n",
      "Requirement already satisfied: distro<2,>=1.7.0 in /Users/vishalpatel/anaconda3/lib/python3.11/site-packages (from groq<1,>=0.4.1->langchain-groq) (1.9.0)\n",
      "Requirement already satisfied: httpx<1,>=0.23.0 in /Users/vishalpatel/anaconda3/lib/python3.11/site-packages (from groq<1,>=0.4.1->langchain-groq) (0.27.0)\n",
      "Requirement already satisfied: pydantic<3,>=1.9.0 in /Users/vishalpatel/anaconda3/lib/python3.11/site-packages (from groq<1,>=0.4.1->langchain-groq) (2.5.3)\n",
      "Requirement already satisfied: sniffio in /Users/vishalpatel/anaconda3/lib/python3.11/site-packages (from groq<1,>=0.4.1->langchain-groq) (1.2.0)\n",
      "Requirement already satisfied: typing-extensions<5,>=4.7 in /Users/vishalpatel/anaconda3/lib/python3.11/site-packages (from groq<1,>=0.4.1->langchain-groq) (4.11.0)\n",
      "Requirement already satisfied: PyYAML>=5.3 in /Users/vishalpatel/anaconda3/lib/python3.11/site-packages (from langchain-core<0.3.0,>=0.2.26->langchain-groq) (6.0)\n",
      "Requirement already satisfied: jsonpatch<2.0,>=1.33 in /Users/vishalpatel/anaconda3/lib/python3.11/site-packages (from langchain-core<0.3.0,>=0.2.26->langchain-groq) (1.33)\n",
      "Requirement already satisfied: langsmith<0.2.0,>=0.1.75 in /Users/vishalpatel/anaconda3/lib/python3.11/site-packages (from langchain-core<0.3.0,>=0.2.26->langchain-groq) (0.1.77)\n",
      "Requirement already satisfied: packaging<25,>=23.2 in /Users/vishalpatel/anaconda3/lib/python3.11/site-packages (from langchain-core<0.3.0,>=0.2.26->langchain-groq) (23.2)\n",
      "Requirement already satisfied: tenacity!=8.4.0,<9.0.0,>=8.1.0 in /Users/vishalpatel/anaconda3/lib/python3.11/site-packages (from langchain-core<0.3.0,>=0.2.26->langchain-groq) (8.2.3)\n",
      "Requirement already satisfied: idna>=2.8 in /Users/vishalpatel/anaconda3/lib/python3.11/site-packages (from anyio<5,>=3.5.0->groq<1,>=0.4.1->langchain-groq) (2.10)\n",
      "Requirement already satisfied: certifi in /Users/vishalpatel/anaconda3/lib/python3.11/site-packages (from httpx<1,>=0.23.0->groq<1,>=0.4.1->langchain-groq) (2023.7.22)\n",
      "Requirement already satisfied: httpcore==1.* in /Users/vishalpatel/anaconda3/lib/python3.11/site-packages (from httpx<1,>=0.23.0->groq<1,>=0.4.1->langchain-groq) (1.0.4)\n",
      "Requirement already satisfied: h11<0.15,>=0.13 in /Users/vishalpatel/anaconda3/lib/python3.11/site-packages (from httpcore==1.*->httpx<1,>=0.23.0->groq<1,>=0.4.1->langchain-groq) (0.14.0)\n",
      "Requirement already satisfied: jsonpointer>=1.9 in /Users/vishalpatel/anaconda3/lib/python3.11/site-packages (from jsonpatch<2.0,>=1.33->langchain-core<0.3.0,>=0.2.26->langchain-groq) (2.1)\n",
      "Requirement already satisfied: orjson<4.0.0,>=3.9.14 in /Users/vishalpatel/anaconda3/lib/python3.11/site-packages (from langsmith<0.2.0,>=0.1.75->langchain-core<0.3.0,>=0.2.26->langchain-groq) (3.10.1)\n",
      "Requirement already satisfied: requests<3,>=2 in /Users/vishalpatel/anaconda3/lib/python3.11/site-packages (from langsmith<0.2.0,>=0.1.75->langchain-core<0.3.0,>=0.2.26->langchain-groq) (2.31.0)\n",
      "Requirement already satisfied: annotated-types>=0.4.0 in /Users/vishalpatel/anaconda3/lib/python3.11/site-packages (from pydantic<3,>=1.9.0->groq<1,>=0.4.1->langchain-groq) (0.6.0)\n",
      "Requirement already satisfied: pydantic-core==2.14.6 in /Users/vishalpatel/anaconda3/lib/python3.11/site-packages (from pydantic<3,>=1.9.0->groq<1,>=0.4.1->langchain-groq) (2.14.6)\n",
      "Requirement already satisfied: charset-normalizer<4,>=2 in /Users/vishalpatel/anaconda3/lib/python3.11/site-packages (from requests<3,>=2->langsmith<0.2.0,>=0.1.75->langchain-core<0.3.0,>=0.2.26->langchain-groq) (2.0.4)\n",
      "Requirement already satisfied: urllib3<3,>=1.21.1 in /Users/vishalpatel/anaconda3/lib/python3.11/site-packages (from requests<3,>=2->langsmith<0.2.0,>=0.1.75->langchain-core<0.3.0,>=0.2.26->langchain-groq) (2.2.1)\n"
     ]
    }
   ],
   "source": [
    "!pip install langchain-groq"
   ]
  },
  {
   "cell_type": "code",
   "execution_count": 20,
   "id": "421a4996",
   "metadata": {},
   "outputs": [],
   "source": [
    "from langchain_groq import ChatGroq\n",
    "\n",
    "llm = ChatGroq(\n",
    "    model=\"mixtral-8x7b-32768\",\n",
    "    temperature=0,\n",
    "    groq_api_key = \"use your own generateed API\"\n",
    ")"
   ]
  },
  {
   "cell_type": "code",
   "execution_count": 21,
   "id": "36f8e490",
   "metadata": {},
   "outputs": [],
   "source": [
    "response = llm.invoke(\"what the capital of india\")"
   ]
  },
  {
   "cell_type": "code",
   "execution_count": 22,
   "id": "aad1d170",
   "metadata": {
    "scrolled": true
   },
   "outputs": [
    {
     "name": "stdout",
     "output_type": "stream",
     "text": [
      "The capital of India is New Delhi. It is one of the 28 states and 8 Union territories of India. New Delhi serves as the seat of government and the center of politics in India. It is known for its rich history, diverse culture, and numerous tourist attractions such as the Red Fort, Jama Masjid, and Humayun's Tomb. New Delhi is also home to many important institutions of the Indian government, including the Parliament of India and the Rashtrapati Bhavan, the official residence of the President of India.\n"
     ]
    }
   ],
   "source": [
    "print(response.content)"
   ]
  },
  {
   "cell_type": "markdown",
   "id": "6a5cfc16",
   "metadata": {},
   "source": [
    "## Scrapping data using WebBaseLoader class of LLMs- it use beautifulsoup behind the scene."
   ]
  },
  {
   "cell_type": "code",
   "execution_count": 23,
   "id": "89fb92fd",
   "metadata": {},
   "outputs": [
    {
     "name": "stdout",
     "output_type": "stream",
     "text": [
      "\n",
      "\n",
      "Software Engineer, Language - Generative AI | Meta Careers\n",
      "\n",
      "\n",
      "\n",
      "\n",
      "\n",
      "\n",
      "\n",
      "\n",
      "\n",
      "\n",
      "\n",
      "\n",
      "\n",
      "\n",
      "\n",
      "\n",
      "\n",
      "\n",
      "\n",
      "\n",
      "\n",
      "\n",
      "Skip to main contentJobsAreas of WorkLocations Career Programs  How We Work BlogJobsBackAreas of WorkBy TechnologyFacebookInstagramMessengerBy TechnologyMeta QuestWhatsAppWorkplaceBy FieldAdvertising TechnologyAR and VRArtificial IntelligenceBusiness Development and PartnershipsCommunications and Public PolicyCreativeData and AnalyticsDesign and User ExperienceEnterprise EngineeringGlobal OperationsBy FieldInfrastructureLegal, Finance, Facilities and AdministrationPeople and RecruitingProduct ManagementResearchSales and MarketingSecuritySoftware EngineeringTechnical Program ManagementLocationsBackCareer ProgramsStudents & GradsPathway ProgramsBackHow We WorkCultureDiversityVeteransLeadershipInnovationBenefitsBlogCreate Career ProfileYou can create a Career Profile to get job suggestions, prepare for the interview process, and more.Create Career ProfileAlready have a Career Profile?Log inStudents & GradsPathway ProgramsCultureDiversityVeteransLeadershipInnovationBenefitsAdvertising TechnologyAR and VRArtificial IntelligenceBusiness Development and PartnershipsCommunications and Public PolicyCreativeData and AnalyticsDesign and User ExperienceEnterprise EngineeringGlobal OperationsInfrastructureLegal, Finance, Facilities and AdministrationPeople and RecruitingProduct ManagementResearchSales and MarketingSecuritySoftware EngineeringTechnical Program ManagementFacebookInstagramMessengerMeta QuestWhatsAppWorkplaceProduction EngineeringPrivacyData CentersApprenticeshipDiscover Production EngineeringMeta UniversityRotational EngineeringRotational Product Manager ProgramSoftware Engineer, Language - Generative AIApply to this jobSoftware Engineer, Language - Generative AIApply to this jobLocation pin iconBellevue, WA • Menlo Park, CA • New York, NY+ 2 more - HideApply to this jobMeta is seeking a Software Engineer to join our Meta AI foundation team. We are responsible for building foundations for developing and optimizing products based on Large Language Models (LLMs). We are looking for strong engineers who have a background in generative AI and NLP/NLU, with experience in areas like language model evaluation; LLM alignment, synthetic data generation; LLM fine-tuning; and retrieval augmented generation (RAG).Software Engineer, Language - Generative AI ResponsibilitiesDesign methods, tools, and infrastructure to push forward the state of the art in large language models and their applications.Apply AI technologies to develop and optimize Meta’s products and services.Contribute to experiments, including designing experimental details, writing reusable code, running evaluations, and organizing results.Adapt standard machine learning methods to best exploit modern parallel environments (e.g. distributed clusters, multicore SMP, and GPU).Work with a large and globally distributed team.Stay up-to-date with the latest developments in the field of generative AI.Minimum QualificationsBachelor's degree in Computer Science, Computer Engineering, relevant technical field, or equivalent practical experience.Master’s degree in Computer Science, Computer Engineering, relevant technical field, or equivalent practical experience.5+ years of industry, academic or government laboratory experience.Experience with developing machine learning models at scale from inception to business impact.Programming experience in Python and hands-on experience with frameworks such as PyTorch.Industrial experience in generative AI and LLM.Preferred QualificationsA PhD in AI, computer science, or related technical fields.7+ years of industry, academic or government laboratory experience. For those who live in or expect to work from California if hired for this position, please click here for additional information. LocationsAbout Meta Meta builds technologies that help people connect, find communities, and grow businesses. When Facebook launched in 2004, it changed the way people connect. Apps like Messenger, Instagram and WhatsApp further empowered billions around the world. Now, Meta is moving beyond 2D screens toward immersive experiences like augmented and virtual reality to help build the next evolution in social technology. People who choose to build their careers by building with us at Meta help shape a future that will take us beyond what digital connection makes possible today—beyond the constraints of screens, the limits of distance, and even the rules of physics.  Meta is committed to providing reasonable support (called accommodations) in our recruiting processes for candidates with disabilities, long term conditions, mental health conditions or sincerely held religious beliefs, or who are neurodivergent or require pregnancy-related support. If you need support, please reach out to accommodations-ext@fb.com. $85.10/hour to $251,000/year + bonus + equity + benefitsIndividual compensation is determined by skills, qualifications, experience, and location. Compensation details listed in this posting reflect the base hourly rate, monthly rate, or annual salary only, and do not include bonus, equity or sales incentives, if applicable. In addition to base compensation, Meta offers benefits. Learn more about  benefits  at Meta. Related Job OpeningsProduct Marketing Manager, AI and Privacy (WhatsApp)WhatsApp | Los Angeles, CA + 3 MoreResearch Engineer - Conversational AI - Reality Labs  Sunnyvale, CA + 3 MoreResearch Scientist Intern, Adaptive Experimentation (PhD)  Menlo Park, CA + 1 MoreResearch Scientist Intern, Graph Science and Statistics Research (PhD)  Menlo Park, CA + 1 MoreResearch Scientist Intern, Optimization, Privacy and Inference (PhD)  Menlo Park, CA + 1 MoreResearch Scientist, Machine Learning (PhD)  Bellevue, WAView All Related Jobs Meta is proud to be an Equal Employment Opportunity and Affirmative Action employer. We do not discriminate based upon race, religion, color, national origin, sex (including pregnancy, childbirth, reproductive health decisions, or related medical conditions), sexual orientation, gender identity, gender expression, age, status as a protected veteran, status as an individual with a disability, genetic information, political views or activity, or other applicable legally protected characteristics. You may view our Equal Employment Opportunity notice here. We also consider qualified applicants with criminal histories, consistent with applicable federal, state and local law. We may use your information to maintain the safety and security of Meta, its employees, and others as required or permitted by law. You may view  Meta Pay Transparency Policy, Equal Employment Opportunity is the Law notice, and Notice to Applicants for Employment and Employees by clicking on their corresponding links. Additionally, Meta participates in the E-Verify program in certain locations, as required by law.  Meta is committed to providing reasonable accommodations for qualified individuals with disabilities and disabled veterans in our job application procedures. If you need assistance or an accommodation due to a disability, you may contact us at accommodations-ext@fb.com.  © Meta 2024 About us  Company info  Newsroom  Looking for contractor roles?  On social  Facebook  Instagram  LinkedIn  Threads  Our policies  Candidate privacy statement  Cookies  More resources  Family safety center  Meta for business  Meta for developers \n",
      "\n",
      "\n",
      "\n",
      "\n",
      "\n",
      "\n",
      "\n",
      "\n",
      "\n",
      "\n",
      "\n",
      "\n",
      "\n",
      "\n",
      "\n",
      "\n",
      "\n",
      "\n",
      "\n",
      "\n",
      "\n",
      "\n",
      "\n",
      "\n",
      "\n",
      "\n",
      "\n",
      "\n",
      "\n",
      "\n",
      "\n",
      "\n",
      "\n",
      "\n",
      "\n",
      "\n",
      "\n",
      "\n",
      "\n",
      "\n",
      "\n",
      "\n",
      "\n",
      "\n",
      "\n",
      "\n",
      "\n",
      "\n",
      "\n",
      "\n",
      "\n",
      "\n",
      "\n",
      "\n",
      "\n",
      "\n",
      "\n",
      "\n",
      "\n",
      "\n",
      "\n",
      "\n",
      "\n",
      "\n",
      "\n",
      "\n",
      "\n",
      "\n",
      "\n",
      "\n",
      "\n",
      "\n",
      "\n",
      "\n",
      "\n",
      "\n",
      "\n",
      "\n",
      "\n",
      "\n",
      "\n",
      "\n",
      "\n",
      "\n",
      "\n",
      "\n",
      "\n",
      "\n",
      "\n",
      "\n",
      "\n",
      "\n",
      "\n",
      "\n",
      "\n",
      "\n",
      "\n",
      "\n",
      "\n",
      "\n",
      "\n",
      "\n",
      "\n",
      "\n",
      "\n",
      "\n"
     ]
    }
   ],
   "source": [
    "from langchain_community.document_loaders import WebBaseLoader\n",
    "site = \"https://www.metacareers.com/v2/jobs/1008290497511075/\"\n",
    "loader = WebBaseLoader(site)\n",
    "page_data = loader.load().pop().page_content\n",
    "print(page_data)"
   ]
  },
  {
   "cell_type": "markdown",
   "id": "7762ebd8",
   "metadata": {},
   "source": [
    "## write prompt temp to convert this extracted texrt into desire json formate for further use."
   ]
  },
  {
   "cell_type": "code",
   "execution_count": 24,
   "id": "3b49fe78",
   "metadata": {},
   "outputs": [
    {
     "data": {
      "text/plain": [
       "str"
      ]
     },
     "execution_count": 24,
     "metadata": {},
     "output_type": "execute_result"
    }
   ],
   "source": [
    "from langchain_core.prompts import PromptTemplate\n",
    "\n",
    "prompt_extract = PromptTemplate.from_template(\n",
    "        \"\"\"\n",
    "        ### SCRAPED TEXT FROM WEBSITE:\n",
    "        {page_data}\n",
    "        ### INSTRUCTION:\n",
    "        The scraped text is from the career's page of a website.\n",
    "        Your job is to extract the job postings and return them in JSON format containing the \n",
    "        following keys: `company name`,`role`, `experience`, `skills` and `description`.\n",
    "        Only return the valid JSON.\n",
    "        ### VALID JSON (NO PREAMBLE):    \n",
    "        \"\"\"\n",
    ")\n",
    "\n",
    "chain_extract = prompt_extract | llm \n",
    "res = chain_extract.invoke(input={'page_data':page_data})\n",
    "type(res.content)"
   ]
  },
  {
   "cell_type": "code",
   "execution_count": 31,
   "id": "df248a36",
   "metadata": {
    "scrolled": true
   },
   "outputs": [
    {
     "name": "stdout",
     "output_type": "stream",
     "text": [
      "[\n",
      "  {\n",
      "    \"company name\": \"Meta\",\n",
      "    \"role\": \"Software Engineer, Language - Generative AI\",\n",
      "    \"experience\": \"5+ years of industry, academic or government laboratory experience\",\n",
      "    \"skills\": [\n",
      "      \"Python\",\n",
      "      \"PyTorch\",\n",
      "      \"Machine Learning\",\n",
      "      \"Generative AI\",\n",
      "      \"LLM\"\n",
      "    ],\n",
      "    \"description\": \"Meta is seeking a Software Engineer to join our Meta AI foundation team. Responsibilities include designing methods, tools, and infrastructure to push forward the state of the art in large language models and their applications, applying AI technologies to develop and optimize Meta’s products and services, contributing to experiments, adapting standard machine learning methods to best exploit modern parallel environments, and working with a large and globally distributed team. The candidate should have experience with developing machine learning models at scale from inception to business impact, and industrial experience in generative AI and LLM.\"\n",
      "  }\n",
      "]\n"
     ]
    }
   ],
   "source": [
    "print(res.content)"
   ]
  },
  {
   "cell_type": "markdown",
   "id": "596e81b8",
   "metadata": {},
   "source": [
    "## convert into json formate"
   ]
  },
  {
   "cell_type": "code",
   "execution_count": 32,
   "id": "defb55fe",
   "metadata": {},
   "outputs": [
    {
     "name": "stdout",
     "output_type": "stream",
     "text": [
      "JSON file 'job_posting.json' created successfully.\n"
     ]
    }
   ],
   "source": [
    "import json\n",
    "\n",
    "# Data extracted\n",
    "data = [\n",
    "  {\n",
    "    \"company name\": \"Meta\",\n",
    "    \"role\": \"Software Engineer\",\n",
    "    \"experience\": \"5+ years of industry, academic or government laboratory experience\",\n",
    "    \"skills\": [\n",
    "      \"Python\",\n",
    "      \"PyTorch\",\n",
    "      \"Generative AI\",\n",
    "      \"LLM (Large Language Models)\",\n",
    "      \"NLP/NLU (Natural Language Processing/Understanding)\"\n",
    "    ],\n",
    "    \"description\": \"Meta is seeking a Software Engineer to join our Meta AI foundation team. Responsibilities include designing methods, tools, and infrastructure to push forward the state of the art in large language models and their applications, applying AI technologies to develop and optimize Meta’s products and services, contributing to experiments, adapting standard machine learning methods to best exploit modern parallel environments, and working with a large and globally distributed team. The candidate should have experience with developing machine learning models at scale from inception to business impact and industrial experience in generative AI and LLM.\"\n",
    "  }\n",
    "]\n",
    "\n",
    "# Convert the data to a JSON file\n",
    "json_file = \"job_posting.json\"\n",
    "with open(json_file, \"w\") as file:\n",
    "    json.dump(data, file, indent=4)\n",
    "\n",
    "print(f\"JSON file '{json_file}' created successfully.\")\n"
   ]
  },
  {
   "cell_type": "code",
   "execution_count": 33,
   "id": "1869f7cb",
   "metadata": {},
   "outputs": [],
   "source": [
    "import pandas as pd\n",
    "\n",
    "# Load the JSON file into a DataFrame\n",
    "job = pd.read_json('job_posting.json')"
   ]
  },
  {
   "cell_type": "code",
   "execution_count": 34,
   "id": "50e2c317",
   "metadata": {},
   "outputs": [
    {
     "data": {
      "text/html": [
       "<div>\n",
       "<style scoped>\n",
       "    .dataframe tbody tr th:only-of-type {\n",
       "        vertical-align: middle;\n",
       "    }\n",
       "\n",
       "    .dataframe tbody tr th {\n",
       "        vertical-align: top;\n",
       "    }\n",
       "\n",
       "    .dataframe thead th {\n",
       "        text-align: right;\n",
       "    }\n",
       "</style>\n",
       "<table border=\"1\" class=\"dataframe\">\n",
       "  <thead>\n",
       "    <tr style=\"text-align: right;\">\n",
       "      <th></th>\n",
       "      <th>company name</th>\n",
       "      <th>role</th>\n",
       "      <th>experience</th>\n",
       "      <th>skills</th>\n",
       "      <th>description</th>\n",
       "    </tr>\n",
       "  </thead>\n",
       "  <tbody>\n",
       "    <tr>\n",
       "      <th>0</th>\n",
       "      <td>Meta</td>\n",
       "      <td>Software Engineer</td>\n",
       "      <td>5+ years of industry, academic or government l...</td>\n",
       "      <td>[Python, PyTorch, Generative AI, LLM (Large La...</td>\n",
       "      <td>Meta is seeking a Software Engineer to join ou...</td>\n",
       "    </tr>\n",
       "  </tbody>\n",
       "</table>\n",
       "</div>"
      ],
      "text/plain": [
       "  company name               role  \\\n",
       "0         Meta  Software Engineer   \n",
       "\n",
       "                                          experience  \\\n",
       "0  5+ years of industry, academic or government l...   \n",
       "\n",
       "                                              skills  \\\n",
       "0  [Python, PyTorch, Generative AI, LLM (Large La...   \n",
       "\n",
       "                                         description  \n",
       "0  Meta is seeking a Software Engineer to join ou...  "
      ]
     },
     "execution_count": 34,
     "metadata": {},
     "output_type": "execute_result"
    }
   ],
   "source": [
    "job"
   ]
  },
  {
   "cell_type": "code",
   "execution_count": 36,
   "id": "8a161c8e",
   "metadata": {
    "scrolled": true
   },
   "outputs": [
    {
     "data": {
      "text/plain": [
       "['Python',\n",
       " 'PyTorch',\n",
       " 'Generative AI',\n",
       " 'LLM (Large Language Models)',\n",
       " 'NLP/NLU (Natural Language Processing/Understanding)']"
      ]
     },
     "execution_count": 36,
     "metadata": {},
     "output_type": "execute_result"
    }
   ],
   "source": [
    "# get only skills section\n",
    "\n",
    "skills = job.iloc[0,3]\n",
    "skills"
   ]
  },
  {
   "cell_type": "code",
   "execution_count": 38,
   "id": "b454b9dd",
   "metadata": {},
   "outputs": [
    {
     "data": {
      "text/plain": [
       "'Meta'"
      ]
     },
     "execution_count": 38,
     "metadata": {},
     "output_type": "execute_result"
    }
   ],
   "source": [
    "company_name = job.iloc[0,0]\n",
    "company_name"
   ]
  },
  {
   "cell_type": "code",
   "execution_count": 45,
   "id": "1de427b0",
   "metadata": {},
   "outputs": [
    {
     "data": {
      "text/plain": [
       "'Software Engineer'"
      ]
     },
     "execution_count": 45,
     "metadata": {},
     "output_type": "execute_result"
    }
   ],
   "source": [
    "job_tital = job.iloc[0,1]\n",
    "job_tital"
   ]
  },
  {
   "cell_type": "code",
   "execution_count": 39,
   "id": "a7cfd7ee",
   "metadata": {},
   "outputs": [
    {
     "name": "stdout",
     "output_type": "stream",
     "text": [
      "Python, PyTorch, Generative AI, LLM (Large Language Models), NLP/NLU (Natural Language Processing/Understanding)\n"
     ]
    }
   ],
   "source": [
    "# Convert the list of skills to a single string\n",
    "skills_str = ', '.join(skills)\n",
    "\n",
    "# Print the result\n",
    "print(skills_str)"
   ]
  },
  {
   "cell_type": "code",
   "execution_count": 40,
   "id": "9decedc5",
   "metadata": {},
   "outputs": [
    {
     "data": {
      "text/html": [
       "<div>\n",
       "<style scoped>\n",
       "    .dataframe tbody tr th:only-of-type {\n",
       "        vertical-align: middle;\n",
       "    }\n",
       "\n",
       "    .dataframe tbody tr th {\n",
       "        vertical-align: top;\n",
       "    }\n",
       "\n",
       "    .dataframe thead th {\n",
       "        text-align: right;\n",
       "    }\n",
       "</style>\n",
       "<table border=\"1\" class=\"dataframe\">\n",
       "  <thead>\n",
       "    <tr style=\"text-align: right;\">\n",
       "      <th></th>\n",
       "      <th>Repositories</th>\n",
       "      <th>Link</th>\n",
       "    </tr>\n",
       "  </thead>\n",
       "  <tbody>\n",
       "    <tr>\n",
       "      <th>0</th>\n",
       "      <td>Generative_AI</td>\n",
       "      <td>https://github.com/v26199/Generative_AI</td>\n",
       "    </tr>\n",
       "    <tr>\n",
       "      <th>1</th>\n",
       "      <td>ML_Projects</td>\n",
       "      <td>https://github.com/v26199/ML_Projects</td>\n",
       "    </tr>\n",
       "    <tr>\n",
       "      <th>2</th>\n",
       "      <td>E-Commerce-Product-Recommodation</td>\n",
       "      <td>https://github.com/v26199/E-Commerce-Product-R...</td>\n",
       "    </tr>\n",
       "    <tr>\n",
       "      <th>3</th>\n",
       "      <td>Credit-card-financial-dashboard-using-Power-BI</td>\n",
       "      <td>https://github.com/v26199/Credit-card-financia...</td>\n",
       "    </tr>\n",
       "    <tr>\n",
       "      <th>4</th>\n",
       "      <td>churn_prediction_lazyclassifier_93-accuracy</td>\n",
       "      <td>https://github.com/v26199/churn_prediction_laz...</td>\n",
       "    </tr>\n",
       "    <tr>\n",
       "      <th>5</th>\n",
       "      <td>RAG-using-Ollama-on-Gemma-7B-LLMs</td>\n",
       "      <td>https://github.com/v26199/RAG-using-Ollama-on-...</td>\n",
       "    </tr>\n",
       "    <tr>\n",
       "      <th>6</th>\n",
       "      <td>LLMs_finetunning</td>\n",
       "      <td>https://github.com/v26199/LLMs_finetunning</td>\n",
       "    </tr>\n",
       "    <tr>\n",
       "      <th>7</th>\n",
       "      <td>NLP_Projects</td>\n",
       "      <td>https://github.com/v26199/NLP_Projects</td>\n",
       "    </tr>\n",
       "    <tr>\n",
       "      <th>8</th>\n",
       "      <td>facemask-detection</td>\n",
       "      <td>https://github.com/v26199/facemask-detection</td>\n",
       "    </tr>\n",
       "    <tr>\n",
       "      <th>9</th>\n",
       "      <td>heart-disease-prediction</td>\n",
       "      <td>https://github.com/v26199/heart-disease-predic...</td>\n",
       "    </tr>\n",
       "    <tr>\n",
       "      <th>10</th>\n",
       "      <td>Data-Science-Resources</td>\n",
       "      <td>https://github.com/v26199/Data-Science-Resources</td>\n",
       "    </tr>\n",
       "    <tr>\n",
       "      <th>11</th>\n",
       "      <td>MediMate</td>\n",
       "      <td>https://github.com/v26199/MediMate</td>\n",
       "    </tr>\n",
       "    <tr>\n",
       "      <th>12</th>\n",
       "      <td>MCQGenerator_Langchain</td>\n",
       "      <td>https://github.com/v26199/MCQGenerator_Langchain</td>\n",
       "    </tr>\n",
       "    <tr>\n",
       "      <th>13</th>\n",
       "      <td>construction-safety-object-detection</td>\n",
       "      <td>https://github.com/v26199/construction-safety-...</td>\n",
       "    </tr>\n",
       "    <tr>\n",
       "      <th>14</th>\n",
       "      <td>AutoML_Tools</td>\n",
       "      <td>https://github.com/v26199/AutoML_Tools</td>\n",
       "    </tr>\n",
       "    <tr>\n",
       "      <th>15</th>\n",
       "      <td>Mastering_Jupyter</td>\n",
       "      <td>https://github.com/v26199/Mastering_Jupyter</td>\n",
       "    </tr>\n",
       "    <tr>\n",
       "      <th>16</th>\n",
       "      <td>filter-based-feature-selection</td>\n",
       "      <td>https://github.com/v26199/filter-based-feature...</td>\n",
       "    </tr>\n",
       "    <tr>\n",
       "      <th>17</th>\n",
       "      <td>HotelAsssist-Chatbot</td>\n",
       "      <td>https://github.com/v26199/HotelAsssist-Chatbot</td>\n",
       "    </tr>\n",
       "  </tbody>\n",
       "</table>\n",
       "</div>"
      ],
      "text/plain": [
       "                                      Repositories  \\\n",
       "0                                    Generative_AI   \n",
       "1                                      ML_Projects   \n",
       "2                 E-Commerce-Product-Recommodation   \n",
       "3   Credit-card-financial-dashboard-using-Power-BI   \n",
       "4      churn_prediction_lazyclassifier_93-accuracy   \n",
       "5                RAG-using-Ollama-on-Gemma-7B-LLMs   \n",
       "6                                 LLMs_finetunning   \n",
       "7                                     NLP_Projects   \n",
       "8                               facemask-detection   \n",
       "9                         heart-disease-prediction   \n",
       "10                          Data-Science-Resources   \n",
       "11                                        MediMate   \n",
       "12                          MCQGenerator_Langchain   \n",
       "13            construction-safety-object-detection   \n",
       "14                                    AutoML_Tools   \n",
       "15                               Mastering_Jupyter   \n",
       "16                  filter-based-feature-selection   \n",
       "17                            HotelAsssist-Chatbot   \n",
       "\n",
       "                                                 Link  \n",
       "0             https://github.com/v26199/Generative_AI  \n",
       "1               https://github.com/v26199/ML_Projects  \n",
       "2   https://github.com/v26199/E-Commerce-Product-R...  \n",
       "3   https://github.com/v26199/Credit-card-financia...  \n",
       "4   https://github.com/v26199/churn_prediction_laz...  \n",
       "5   https://github.com/v26199/RAG-using-Ollama-on-...  \n",
       "6          https://github.com/v26199/LLMs_finetunning  \n",
       "7              https://github.com/v26199/NLP_Projects  \n",
       "8        https://github.com/v26199/facemask-detection  \n",
       "9   https://github.com/v26199/heart-disease-predic...  \n",
       "10   https://github.com/v26199/Data-Science-Resources  \n",
       "11                 https://github.com/v26199/MediMate  \n",
       "12   https://github.com/v26199/MCQGenerator_Langchain  \n",
       "13  https://github.com/v26199/construction-safety-...  \n",
       "14             https://github.com/v26199/AutoML_Tools  \n",
       "15        https://github.com/v26199/Mastering_Jupyter  \n",
       "16  https://github.com/v26199/filter-based-feature...  \n",
       "17     https://github.com/v26199/HotelAsssist-Chatbot  "
      ]
     },
     "execution_count": 40,
     "metadata": {},
     "output_type": "execute_result"
    }
   ],
   "source": [
    "import pandas as pd\n",
    "\n",
    "# df = pd.read_csv(\"./project-genai-cold-email-generator-main/my_portfolio.csv\")\n",
    "df = pd.read_csv(\"github_repositories.csv\")\n",
    "df"
   ]
  },
  {
   "cell_type": "code",
   "execution_count": 41,
   "id": "971ba4df",
   "metadata": {},
   "outputs": [],
   "source": [
    "import uuid\n",
    "import chromadb\n",
    "\n",
    "client = chromadb.PersistentClient('vectorstore2')\n",
    "collection = client.get_or_create_collection(name=\"portfolio2\")\n",
    "\n",
    "if not collection.count():\n",
    "    for _, row in df.iterrows():\n",
    "        collection.add(documents=row[\"Repositories\"],\n",
    "                       metadatas={\"links\": row[\"Link\"]},\n",
    "                       ids=[str(uuid.uuid4())])"
   ]
  },
  {
   "cell_type": "code",
   "execution_count": 42,
   "id": "77d2e702",
   "metadata": {},
   "outputs": [
    {
     "data": {
      "text/plain": [
       "[[{'links': 'https://github.com/v26199/NLP_Projects'},\n",
       "  {'links': 'https://github.com/v26199/Generative_AI'},\n",
       "  {'links': 'https://github.com/v26199/Data-Science-Resources'},\n",
       "  {'links': 'https://github.com/v26199/ML_Projects'},\n",
       "  {'links': 'https://github.com/v26199/Mastering_Jupyter'}]]"
      ]
     },
     "execution_count": 42,
     "metadata": {},
     "output_type": "execute_result"
    }
   ],
   "source": [
    "links = collection.query(query_texts=skills_str, n_results=5).get('metadatas', [])\n",
    "links"
   ]
  },
  {
   "cell_type": "code",
   "execution_count": 46,
   "id": "a94276bd",
   "metadata": {},
   "outputs": [
    {
     "data": {
      "text/plain": [
       "['Python',\n",
       " 'PyTorch',\n",
       " 'Generative AI',\n",
       " 'LLM (Large Language Models)',\n",
       " 'NLP/NLU (Natural Language Processing/Understanding)']"
      ]
     },
     "execution_count": 46,
     "metadata": {},
     "output_type": "execute_result"
    }
   ],
   "source": [
    "skills"
   ]
  },
  {
   "cell_type": "code",
   "execution_count": 47,
   "id": "7c693bbe",
   "metadata": {},
   "outputs": [
    {
     "name": "stdout",
     "output_type": "stream",
     "text": [
      "Subject: Application for Software Engineer Position at Meta\n",
      "\n",
      "Dear [Hiring Manager’s Name],\n",
      "\n",
      "My name is Vishal Patel, and I am an experienced Data Scientist with a strong focus on machine learning, NLP, and generative LLM models. I am writing to express my interest in the Software Engineer position at Meta, which I discovered through your company's career job posting.\n",
      "\n",
      "With over 5 years of experience in data science and machine learning, I believe my background makes me an excellent fit for this role. My recent project involved developing an advanced LLM-based cold email generator that automated job listing extraction and personalized email generation. This innovation resulted in a 30% increase in response rates and a 25% rise in project engagement, demonstrating my ability to drive significant improvements in outreach and efficiency.\n",
      "\n",
      "My expertise aligns perfectly with the skills required for this role. I specialize in Python, machine learning, and NLP, with a proven track record of optimizing AI solutions and deploying them effectively. I am adept at leveraging modern technologies to address complex challenges and enhance business processes.\n",
      "\n",
      "For your convenience, I have included the most relevant portfolio examples from the following links to showcase my capabilities:\n",
      "- <https://github.com/v26199/NLP_Projects>\n",
      "- <https://github.com/v26199/Generative_AI>\n",
      "- <https://github.com/v26199/Data-Science-Resources>\n",
      "- <https://github.com/v26199/ML_Projects>\n",
      "- <https://github.com/v26199/Mastering_Jupyter>\n",
      "\n",
      "I would welcome the opportunity to discuss how my skills and experience align with your needs. I look forward to the possibility of contributing to your team.\n",
      "\n",
      "Best regards,\n",
      "\n",
      "Vishal Patel\n",
      "Data Scientist\n"
     ]
    }
   ],
   "source": [
    "# prompt_email = PromptTemplate.from_template(\n",
    "#         \"\"\"\n",
    "#         ### JOB DESCRIPTION:\n",
    "#         {job_description}\n",
    "        \n",
    "#         ### INSTRUCTION:\n",
    "#         You are Vishal, a business development executive at Maxgen Technologies. Maxgen is an AI & Software Consulting company dedicated to facilitating\n",
    "#         the seamless integration of business processes through automated tools. \n",
    "#         Over our experience, we have empowered numerous enterprises with tailored solutions, fostering scalability, \n",
    "#         process optimization, cost reduction, and heightened overall efficiency. \n",
    "#         Your job is to write a cold email to the client regarding the job mentioned above describing the capability of AtliQ \n",
    "#         in fulfilling their needs.\n",
    "#         Also add the most relevant ones from the following links to showcase Maxgen's portfolio: {link_list}\n",
    "#         Remember you are Vishal, BDE at Maxgen . \n",
    "#         Do not provide a preamble.\n",
    "#         ### EMAIL (NO PREAMBLE):\n",
    "        \n",
    "#         \"\"\"\n",
    "#         )\n",
    "\n",
    "prompt_email = PromptTemplate.from_template(\n",
    "        \"\"\"\n",
    "        ### JOB DESCRIPTION:\n",
    "        {job_description}\n",
    "\n",
    "        ### INSTRUCTION:\n",
    "        Dear [Hiring Manager’s Name],\n",
    "\n",
    "        My name is Vishal Patel, and I am an experienced Data Scientist with a strong focus on machine learning, NLP, and generative LLM models. I am writing to express my interest in the {Job_title} position at {Company_Name}, which I discovered through your company's career job posting.\n",
    "\n",
    "        With over 5 years of experience in data science and machine learning, I believe my background makes me an excellent fit for this role.\n",
    "\n",
    "        My recent project involved developing an advanced LLM-based cold email generator that automated job listing extraction and personalized email generation. This innovation resulted in a 30% increase in response rates and a 25% rise in project engagement, demonstrating my ability to drive significant improvements in outreach and efficiency.\n",
    "\n",
    "        My expertise aligns perfectly with the skills required for this role. I specialize in Python, machine learning, and NLP, with a proven track record of optimizing AI solutions and deploying them effectively. I am adept at leveraging modern technologies to address complex challenges and enhance business processes.\n",
    "\n",
    "        For your convenience, I have included the most relevant portfolio examples from the following links to showcase my capabilities:\n",
    "        * {link_list}\n",
    "\n",
    "        I would welcome the opportunity to discuss how my skills and experience align with your needs. I look forward to the possibility of contributing to your team.\n",
    "\n",
    "        Best regards,\n",
    "\n",
    "        Vishal Patel\n",
    "        Data Scientist\n",
    "\n",
    "        Do not provide a preamble.\n",
    "        ### EMAIL (NO PREAMBLE):\n",
    "        \"\"\"\n",
    "        )\n",
    "\n",
    "\n",
    "\n",
    "\n",
    "chain_email = prompt_email | llm\n",
    "res = chain_email.invoke({\"job_description\": str(job),\"Job_title\" :job_tital ,\"Company_Name\": company_name, \"link_list\": links})\n",
    "print(res.content)"
   ]
  },
  {
   "cell_type": "code",
   "execution_count": null,
   "id": "6253fa78",
   "metadata": {},
   "outputs": [],
   "source": []
  }
 ],
 "metadata": {
  "kernelspec": {
   "display_name": "Python 3 (ipykernel)",
   "language": "python",
   "name": "python3"
  },
  "language_info": {
   "codemirror_mode": {
    "name": "ipython",
    "version": 3
   },
   "file_extension": ".py",
   "mimetype": "text/x-python",
   "name": "python",
   "nbconvert_exporter": "python",
   "pygments_lexer": "ipython3",
   "version": "3.11.4"
  }
 },
 "nbformat": 4,
 "nbformat_minor": 5
}
